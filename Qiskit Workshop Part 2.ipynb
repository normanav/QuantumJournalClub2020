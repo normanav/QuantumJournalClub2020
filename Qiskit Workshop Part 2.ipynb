{
 "cells": [
  {
   "cell_type": "code",
   "execution_count": null,
   "metadata": {},
   "outputs": [],
   "source": [
    "#This notebook follows the VQE Chapter of the Qiskit textbook available here\n",
    "## https://qiskit.org/textbook/ch-applications/vqe-molecules.html\n",
    "#Implementation of single-qubit VQE - random probability vector\n",
    "#First generate our random probability vector:\n",
    "import numpy as np\n",
    "np.random.seed(999999)\n",
    "target_distr = np.random.rand(2)\n",
    "# We now convert the random vector into a valid probability vector\n",
    "target_distr /= sum(target_distr)"
   ]
  },
  {
   "cell_type": "code",
   "execution_count": null,
   "metadata": {},
   "outputs": [],
   "source": [
    "#We create a qiskit based function that takes input parameters of our U3 variational form\n",
    "from qiskit import QuantumCircuit, ClassicalRegister, QuantumRegister\n",
    "def get_var_form(params):\n",
    "    qr = QuantumRegister(1, name=\"q\") #creates single qubit in our system\n",
    "    cr = ClassicalRegister(1, name='c') #creates a single classical bit in our system\n",
    "    qc = QuantumCircuit(qr, cr) #adds the qubit and bit into a circuit\n",
    "    qc.u3(params[0], params[1], params[2], qr[0]) #defines the U3 transformation according to input parameters\n",
    "    qc.measure(qr, cr[0]) #measures qubit0 using our bit\n",
    "    return qc"
   ]
  },
  {
   "cell_type": "code",
   "execution_count": null,
   "metadata": {},
   "outputs": [],
   "source": [
    "from qiskit import Aer, execute\n",
    "backend = Aer.get_backend(\"qasm_simulator\") #Aer is one of the built-in Qiskit simulators, the QASM simulator simulates quantum circuits as if they were being measured on a real device\n",
    "#QASM returns measurement counts, and contains a number of implementable noise mocels\n",
    "\n",
    "NUM_SHOTS = 10000\n",
    "\n",
    "def get_probability_distribution(counts): #this function creates a probability distribution of the measured values from the QASM simulation\n",
    "    output_distr = [v / NUM_SHOTS for v in counts.values()]\n",
    "    if len(output_distr) == 1:\n",
    "        output_distr.append(0)\n",
    "    return output_distr\n",
    "\n",
    "def objective_function(params): \n",
    "    qc = get_var_form(params) # Create a quantum circuit from the paramters\n",
    "    result = execute(qc, backend, shots=NUM_SHOTS).result()    # Execute the quantum circuit to obtain the probability distribution associated with the current parameters using the QASM simulator as the backend\n",
    "    output_distr = get_probability_distribution(result.get_counts(qc))     # Obtain the counts for each measured state, and convert those counts into a probability vector\n",
    "    cost = sum([np.abs(output_distr[i] - target_distr[i]) for i in range(2)]) # Calculate the cost as the distance between the output distribution and the target distribution\n",
    "    return cost"
   ]
  },
  {
   "cell_type": "code",
   "execution_count": null,
   "metadata": {},
   "outputs": [],
   "source": [
    "from qiskit.aqua.components.optimizers import COBYLA #Qiskit Aqua is the quantum algorithm package, COBYLA stands for 'Constraint optimization by linear approximation '\n",
    "\n",
    "# Initialize the COBYLA optimizer\n",
    "optimizer = COBYLA(maxiter=500, tol=0.0001)\n",
    "\n",
    "# Create the initial parameters (noting that our single qubit variational form has 3 parameters)\n",
    "params = np.random.rand(3)\n",
    "ret = optimizer.optimize(num_vars=3, objective_function=objective_function, initial_point=params)\n",
    "\n",
    "# Obtain the output distribution using the final parameters\n",
    "qc = get_var_form(ret[0])\n",
    "counts = execute(qc, backend, shots=NUM_SHOTS).result().get_counts(qc)\n",
    "output_distr = get_probability_distribution(counts)\n",
    "\n",
    "print(\"Target Distribution:\", target_distr)\n",
    "print(\"Obtained Distribution:\", output_distr)\n",
    "print(\"Output Error (Manhattan Distance):\", ret[1])\n",
    "print(\"Parameters Found:\", ret[0])"
   ]
  },
  {
   "cell_type": "code",
   "execution_count": null,
   "metadata": {},
   "outputs": [],
   "source": [
    "from qiskit.aqua.algorithms import VQE, ExactEigensolver\n",
    "import matplotlib.pyplot as plt\n",
    "%matplotlib inline\n",
    "%config InlineBackend.figure_format = 'svg' # Makes the images look nice\n",
    "import numpy as np\n",
    "from qiskit.chemistry.components.variational_forms import UCCSD\n",
    "from qiskit.chemistry.components.initial_states import HartreeFock\n",
    "from qiskit.aqua.components.variational_forms import RYRZ\n",
    "from qiskit.aqua.components.optimizers import COBYLA, SPSA, SLSQP\n",
    "from qiskit.aqua.operators import Z2Symmetries\n",
    "from qiskit import IBMQ, BasicAer, Aer\n",
    "from qiskit.chemistry.drivers import PySCFDriver, UnitsType\n",
    "from qiskit.chemistry import FermionicOperator\n",
    "from qiskit import IBMQ\n",
    "from qiskit.aqua import QuantumInstance\n",
    "from qiskit.ignis.mitigation.measurement import CompleteMeasFitter\n",
    "from qiskit.providers.aer.noise import NoiseModel"
   ]
  },
  {
   "cell_type": "code",
   "execution_count": null,
   "metadata": {},
   "outputs": [],
   "source": [
    "#create a function that maps interatomic distance onto qubit configuration\n",
    "def get_qubit_op(dist):\n",
    "    driver = PySCFDriver(atom=\"Li .0 .0 .0; H .0 .0 \" + str(dist), unit=UnitsType.ANGSTROM, \n",
    "                         charge=0, spin=0, basis='sto3g') #Defining the interatomic distance and the driver\n",
    "    molecule = driver.run()\n",
    "    freeze_list = [0] #Freezing the cores of the atoms\n",
    "    remove_list = [-3, -2] #Removing unoccupied levels\n",
    "    repulsion_energy = molecule.nuclear_repulsion_energy #Implementing the nuclear repulsion of atoms within molecule\n",
    "    num_particles = molecule.num_alpha + molecule.num_beta #Defining 1 Li atom and 1 H atom\n",
    "    num_spin_orbitals = molecule.num_orbitals * 2 #2 spins per orbital\n",
    "    \n",
    "    remove_list = [x % molecule.num_orbitals for x in remove_list]\n",
    "    freeze_list = [x % molecule.num_orbitals for x in freeze_list]\n",
    "    remove_list = [x - len(freeze_list) for x in remove_list]\n",
    "    remove_list += [x + molecule.num_orbitals - len(freeze_list)  for x in remove_list]\n",
    "    freeze_list += [x + molecule.num_orbitals for x in freeze_list]\n",
    "    \n",
    "    #h1 is the 2nd quantized fermionic 1 body operator, h2 is the 2nd quantized 2 body operator\n",
    "    ferOp = FermionicOperator(h1=molecule.one_body_integrals, h2=molecule.two_body_integrals)\n",
    "    ferOp, energy_shift = ferOp.fermion_mode_freezing(freeze_list)\n",
    "    num_spin_orbitals -= len(freeze_list)\n",
    "    num_particles -= len(freeze_list)\n",
    "    ferOp = ferOp.fermion_mode_elimination(remove_list)\n",
    "    num_spin_orbitals -= len(remove_list)\n",
    "    \n",
    "    qubitOp = ferOp.mapping(map_type='parity', threshold=0.00000001) #creates a weighted opterator in pauli matrix basis\n",
    "    qubitOp = Z2Symmetries.two_qubit_reduction(qubitOp, num_particles) #symmetry to reduce number of qubits used\n",
    "    shift = energy_shift + repulsion_energy \n",
    "    return qubitOp, num_particles, num_spin_orbitals, shift"
   ]
  },
  {
   "cell_type": "code",
   "execution_count": null,
   "metadata": {},
   "outputs": [],
   "source": [
    "print('number of qubits = ', qubitOp.num_qubits)\n",
    "print(num_particles)\n",
    "print(num_spin_orbitals)"
   ]
  },
  {
   "cell_type": "code",
   "execution_count": null,
   "metadata": {},
   "outputs": [],
   "source": [
    "backend = BasicAer.get_backend(\"statevector_simulator\")\n",
    "distances = np.arange(0.5, 3.0, 0.1)\n",
    "exact_energies = []\n",
    "vqe_energies = []\n",
    "optimizer = SLSQP(maxiter=5)\n",
    "for dist in distances:\n",
    "    qubitOp, num_particles, num_spin_orbitals, shift = get_qubit_op(dist)\n",
    "    result = ExactEigensolver(qubitOp).run() #calculate the exact value by calculating the eigenvalues classically\n",
    "    exact_energies.append(result['energy'] + shift)\n",
    "    initial_state = HartreeFock(\n",
    "        qubitOp.num_qubits,\n",
    "        num_spin_orbitals,\n",
    "        num_particles,\n",
    "        'parity'\n",
    "    ) #set our initial state to be the Hartree Fock approximation\n",
    "    var_form = UCCSD(\n",
    "        qubitOp.num_qubits,\n",
    "        depth=1,\n",
    "        num_orbitals=num_spin_orbitals,\n",
    "        num_particles=num_particles,\n",
    "        initial_state=initial_state,\n",
    "        qubit_mapping='parity'\n",
    "    )\n",
    "    vqe = VQE(qubitOp, var_form, optimizer)\n",
    "    results = vqe.run(backend)['energy'] + shift\n",
    "    vqe_energies.append(results)\n",
    "    print(\"Interatomic Distance:\", np.round(dist, 2), \"VQE Result:\", results, \"Exact Energy:\", exact_energies[-1])\n",
    "    \n",
    "print(\"All energies have been calculated\")\n"
   ]
  },
  {
   "cell_type": "code",
   "execution_count": null,
   "metadata": {},
   "outputs": [],
   "source": [
    "plt.plot(distances, exact_energies,label=\"Exact Energy\")\n",
    "plt.plot(distances, vqe_energies,'r.' , label=\"VQE Energy\", )\n",
    "plt.xlabel('Atomic distance (Angstrom)')\n",
    "plt.ylabel('Energy')\n",
    "plt.legend()\n",
    "plt.show()"
   ]
  },
  {
   "cell_type": "code",
   "execution_count": null,
   "metadata": {},
   "outputs": [],
   "source": []
  }
 ],
 "metadata": {
  "kernelspec": {
   "display_name": "Python 3",
   "language": "python",
   "name": "python3"
  },
  "language_info": {
   "codemirror_mode": {
    "name": "ipython",
    "version": 3
   },
   "file_extension": ".py",
   "mimetype": "text/x-python",
   "name": "python",
   "nbconvert_exporter": "python",
   "pygments_lexer": "ipython3",
   "version": "3.7.5"
  }
 },
 "nbformat": 4,
 "nbformat_minor": 2
}
